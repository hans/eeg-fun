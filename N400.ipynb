{
 "cells": [
  {
   "cell_type": "code",
   "execution_count": 11,
   "metadata": {},
   "outputs": [],
   "source": [
    "from pathlib import Path\n",
    "\n",
    "import mne\n",
    "import nltk\n",
    "import numpy as np\n",
    "import pandas as pd\n",
    "import re\n",
    "import scipy.io\n",
    "from tqdm.notebook import tqdm\n",
    "import unicodedata\n",
    "\n",
    "# Transformers prep\n",
    "import os\n",
    "os.environ[\"TRANSFORMERS_CACHE\"] = str((Path(\".\") / \"transformers_cache\").resolve())\n",
    "import transformers\n",
    "import torch\n",
    "RECOMPUTE_SURPRISALS = False\n",
    "\n",
    "DATA_DIR = Path(\"/om/data/public/broderick2018/Natural Speech\")\n",
    "EEG_DIR = DATA_DIR / \"EEG\"\n",
    "STIM_DIR = DATA_DIR / \"Stimuli\" / \"Text\"\n",
    "ENVELOPE_DIR = DATA_DIR / \"Stimuli\" / \"Envelopes\"\n",
    "\n",
    "FULL_TEXT_PATH = Path(\"data/texts/old-man-and-the-sea.txt\")\n",
    "\n",
    "SURPRISALS_DIR = Path(\"data/surprisals\")\n",
    "# SURPRISALS_HF_MODEL = \"hf-internal-testing/tiny-xlm-roberta\" #\"gpt2\"\n",
    "SURPRISALS_HF_MODEL = \"EleutherAI/gpt-neo-125M\"\n",
    "SURPRISALS_CHECKPOINT_PATH = SURPRISALS_DIR / (\"surprisals_\" + SURPRISALS_HF_MODEL.replace(\"/\", \"-\") + \".csv\")"
   ]
  },
  {
   "cell_type": "markdown",
   "metadata": {},
   "source": [
    "Reference: https://mne.tools/stable/auto_tutorials/evoked/30_eeg_erp.html#sphx-glr-auto-tutorials-evoked-30-eeg-erp-py\n",
    "\n",
    "## TODO\n",
    "\n",
    "- other preprocessing which might be necessary\n",
    "  - ICA\n",
    "  - eye movement artifact removal\n",
    "\n",
    "## Glossary\n",
    "\n",
    "- preprocessing steps\n",
    "  - detrending: Subtract least-square linear fit from time series, cf. https://docs.scipy.org/doc/scipy/reference/generated/scipy.signal.detrend.html\n",
    "  - baselining: Subtract per-channel mean from signal\n",
    "  - decimating: Data subsampling (over time)"
   ]
  },
  {
   "cell_type": "markdown",
   "metadata": {},
   "source": [
    "## Load stimuli"
   ]
  },
  {
   "cell_type": "code",
   "execution_count": 2,
   "metadata": {},
   "outputs": [],
   "source": [
    "def load_stimuli(path):\n",
    "    data = scipy.io.loadmat(path)\n",
    "    \n",
    "    return pd.DataFrame.from_dict({\"word\": [el[0][0] for el in data[\"wordVec\"]],\n",
    "                                   \"onset_time\": data[\"onset_time\"].flatten(),\n",
    "                                   \"offset_time\": data[\"offset_time\"].flatten()})\n",
    "\n",
    "def strip_accents(s):\n",
    "    return unicodedata.normalize(\"NFKD\", s).encode(\"ASCII\", \"ignore\").decode(\"utf-8\")"
   ]
  },
  {
   "cell_type": "code",
   "execution_count": 3,
   "metadata": {},
   "outputs": [
    {
     "data": {
      "text/html": [
       "<div>\n",
       "<style scoped>\n",
       "    .dataframe tbody tr th:only-of-type {\n",
       "        vertical-align: middle;\n",
       "    }\n",
       "\n",
       "    .dataframe tbody tr th {\n",
       "        vertical-align: top;\n",
       "    }\n",
       "\n",
       "    .dataframe thead th {\n",
       "        text-align: right;\n",
       "    }\n",
       "</style>\n",
       "<table border=\"1\" class=\"dataframe\">\n",
       "  <thead>\n",
       "    <tr style=\"text-align: right;\">\n",
       "      <th></th>\n",
       "      <th></th>\n",
       "      <th>word</th>\n",
       "      <th>onset_time</th>\n",
       "      <th>offset_time</th>\n",
       "    </tr>\n",
       "    <tr>\n",
       "      <th>item</th>\n",
       "      <th>content_word_idx</th>\n",
       "      <th></th>\n",
       "      <th></th>\n",
       "      <th></th>\n",
       "    </tr>\n",
       "  </thead>\n",
       "  <tbody>\n",
       "    <tr>\n",
       "      <th rowspan=\"5\" valign=\"top\">1</th>\n",
       "      <th>0</th>\n",
       "      <td>OLD</td>\n",
       "      <td>1.12</td>\n",
       "      <td>1.41</td>\n",
       "    </tr>\n",
       "    <tr>\n",
       "      <th>1</th>\n",
       "      <td>MAN</td>\n",
       "      <td>1.41</td>\n",
       "      <td>1.79</td>\n",
       "    </tr>\n",
       "    <tr>\n",
       "      <th>2</th>\n",
       "      <td>FISHED</td>\n",
       "      <td>2.08</td>\n",
       "      <td>2.41</td>\n",
       "    </tr>\n",
       "    <tr>\n",
       "      <th>3</th>\n",
       "      <td>ALONE</td>\n",
       "      <td>2.41</td>\n",
       "      <td>2.77</td>\n",
       "    </tr>\n",
       "    <tr>\n",
       "      <th>4</th>\n",
       "      <td>SKIFF</td>\n",
       "      <td>2.95</td>\n",
       "      <td>3.41</td>\n",
       "    </tr>\n",
       "    <tr>\n",
       "      <th>...</th>\n",
       "      <th>...</th>\n",
       "      <td>...</td>\n",
       "      <td>...</td>\n",
       "      <td>...</td>\n",
       "    </tr>\n",
       "    <tr>\n",
       "      <th rowspan=\"5\" valign=\"top\">20</th>\n",
       "      <th>250</th>\n",
       "      <td>NECESSARY</td>\n",
       "      <td>184.43</td>\n",
       "      <td>184.93</td>\n",
       "    </tr>\n",
       "    <tr>\n",
       "      <th>251</th>\n",
       "      <td>FREE</td>\n",
       "      <td>185.06</td>\n",
       "      <td>185.42</td>\n",
       "    </tr>\n",
       "    <tr>\n",
       "      <th>252</th>\n",
       "      <td>UNTIE</td>\n",
       "      <td>185.56</td>\n",
       "      <td>186.00</td>\n",
       "    </tr>\n",
       "    <tr>\n",
       "      <th>253</th>\n",
       "      <td>VARIOUS</td>\n",
       "      <td>186.11</td>\n",
       "      <td>186.57</td>\n",
       "    </tr>\n",
       "    <tr>\n",
       "      <th>254</th>\n",
       "      <td>LINES</td>\n",
       "      <td>186.57</td>\n",
       "      <td>187.07</td>\n",
       "    </tr>\n",
       "  </tbody>\n",
       "</table>\n",
       "<p>5459 rows × 3 columns</p>\n",
       "</div>"
      ],
      "text/plain": [
       "                            word  onset_time  offset_time\n",
       "item content_word_idx                                    \n",
       "1    0                       OLD        1.12         1.41\n",
       "     1                       MAN        1.41         1.79\n",
       "     2                    FISHED        2.08         2.41\n",
       "     3                     ALONE        2.41         2.77\n",
       "     4                     SKIFF        2.95         3.41\n",
       "...                          ...         ...          ...\n",
       "20   250               NECESSARY      184.43       184.93\n",
       "     251                    FREE      185.06       185.42\n",
       "     252                   UNTIE      185.56       186.00\n",
       "     253                 VARIOUS      186.11       186.57\n",
       "     254                   LINES      186.57       187.07\n",
       "\n",
       "[5459 rows x 3 columns]"
      ]
     },
     "execution_count": 3,
     "metadata": {},
     "output_type": "execute_result"
    }
   ],
   "source": [
    "stim_paths = list(STIM_DIR.glob(\"*.mat\"))\n",
    "stim_df = pd.concat([load_stimuli(path) for path in stim_paths],\n",
    "                    keys=[int(p.stem.replace(\"Run\", \"\")) for p in stim_paths],\n",
    "                    names=[\"item\", \"content_word_idx\"]).sort_index()\n",
    "stim_df"
   ]
  },
  {
   "cell_type": "markdown",
   "metadata": {},
   "source": [
    "### Align stimuli with original text and surprisals\n",
    "\n",
    "We will simultaneously run this alignment, accounting for differences in tokenization and in words missing in the stimuli (which only contain \"content words\")."
   ]
  },
  {
   "cell_type": "code",
   "execution_count": 5,
   "metadata": {},
   "outputs": [],
   "source": [
    "sentences = nltk.tokenize.PunktSentenceTokenizer().tokenize(FULL_TEXT_PATH.open().read())\n",
    "sentences = [nltk.tokenize.RegexpTokenizer(\"[\\w']+|[^\\w\\s]+\").tokenize(sent) for sent in sentences]\n",
    "tokens_flat = [tok for sent in sentences for tok in sent]"
   ]
  },
  {
   "cell_type": "code",
   "execution_count": 6,
   "metadata": {
    "scrolled": true
   },
   "outputs": [
    {
     "data": {
      "application/vnd.jupyter.widget-view+json": {
       "model_id": "36830030018146d487e7a65a55523f99",
       "version_major": 2,
       "version_minor": 0
      },
      "text/plain": [
       "  0%|          | 0/20 [00:00<?, ?it/s]"
      ]
     },
     "metadata": {},
     "output_type": "display_data"
    }
   ],
   "source": [
    "## Align stimulus rows with full text content, in preparation\n",
    "## for re-inserting non-content words.\n",
    "\n",
    "punct_re = re.compile(r\"[^A-Za-z]\")\n",
    "\n",
    "stop = False\n",
    "\n",
    "tok_cursor = 0\n",
    "surp_cursor = 0\n",
    "\n",
    "tok_el = tokens_flat[tok_cursor]\n",
    "# surp_el = surprisals_df.iloc[surp_cursor]\n",
    "\n",
    "# For each element in surp_df, record the index of the corresponding element\n",
    "# in the token sequence or surprisal df.\n",
    "tok_pos, surp_pos = [], []\n",
    "for item, rows in tqdm(stim_df.groupby(\"item\")):\n",
    "    if stop: break\n",
    "        \n",
    "    # print(\"==========\", item)\n",
    "    for idx, row in rows.iterrows():\n",
    "        # print(row.word, \"::\")\n",
    "        \n",
    "        # Track how many elements in a reference we have skipped. If this is excessive,\n",
    "        # we'll quit rather than looping infinitely.\n",
    "        skip_count = 0\n",
    "        if stop: break\n",
    "        \n",
    "        # Find corresponding token in text and append to `tok_pos`.\n",
    "        try:\n",
    "            tok_el = punct_re.sub(\"\", tok_el)\n",
    "            while not tok_el.startswith(row.word.lower()):\n",
    "                tok_cursor += 1\n",
    "                skip_count += 1\n",
    "                if skip_count > 20:\n",
    "                    stop = True\n",
    "                    break\n",
    "                \n",
    "                tok_el = strip_accents(tokens_flat[tok_cursor].lower())\n",
    "                # print(\"\\t//\", element)\n",
    "                \n",
    "            # print(\"\\tMatch\", row.word, element)\n",
    "            tok_pos.append(tok_cursor)\n",
    "\n",
    "            # If we matched only a subset of the token, then cut off what we\n",
    "            # matched and proceed.\n",
    "            if tok_el != row.word.lower():\n",
    "                tok_el = tok_el[len(row.word):]\n",
    "        except IndexError:\n",
    "            print(\"iex\", row, tok_cursor, tok_el)\n",
    "            stop = True\n",
    "            break\n",
    "        \n",
    "#         surp_word = punct_re.sub(\"\", surp_el.token)\n",
    "#         while not surp_el.token == row.word.lower():\n",
    "#             surp_cursor += 1\n",
    "#             skip_count += 1\n",
    "#             if skip_count > 20:\n",
    "#                 stop = True\n",
    "#                 break\n",
    "                \n",
    "#             surp_el = surprisals_df.iloc[surp_cursor]\n",
    "            \n",
    "#         print(\"\\tSurp match\", row.word, surp_cursor, surp_el.token)\n",
    "#         surp_pos.append(surp_cursor)\n",
    "        \n",
    "        # DEV\n",
    "        # if tok_cursor > 50:\n",
    "        #     stop = True\n",
    "            \n",
    "stim_df[\"tok_pos\"] = tok_pos"
   ]
  },
  {
   "cell_type": "code",
   "execution_count": 7,
   "metadata": {},
   "outputs": [],
   "source": [
    "if RECOMPUTE_SURPRISALS:\n",
    "    hf_tokenizer = transformers.AutoTokenizer.from_pretrained(SURPRISALS_HF_MODEL)\n",
    "    hf_model = transformers.AutoModelForCausalLM.from_pretrained(SURPRISALS_HF_MODEL,\n",
    "                                                                 add_cross_attention=True, is_decoder=True)\n",
    "\n",
    "    tokenized = hf_tokenizer.batch_encode_plus(\n",
    "        [\" \".join(sentence) for sentence in sentences],\n",
    "        add_special_tokens=True, return_offsets_mapping=True)\n",
    "\n",
    "    global_tok_cursor = 0\n",
    "\n",
    "    # Each element is of form (global_text_tok_idx, sent_idx, text_tok_idx, tok_idx, surprisal)\n",
    "    # `global_text_tok_idx` is an index into `tokens_flat`\n",
    "    # `sent_idx` is an index into `sentences`\n",
    "    # `text_tok_idx` is an index into `sentences[sent_idx]`\n",
    "    surp_mapping = []\n",
    "    for sent_idx, sentence in enumerate(tqdm(sentences)):\n",
    "        sent_tokens = torch.tensor(tokenized[\"input_ids\"][sent_idx]).unsqueeze(0)\n",
    "\n",
    "        # Run batches of decoding, accounting for limited sequence input size\n",
    "        max_len = 512\n",
    "        past = None\n",
    "        input_ids = sent_tokens.clone()\n",
    "        surprisal_outputs = []\n",
    "        while True:\n",
    "            with torch.no_grad():\n",
    "                outputs_b = hf_model(\n",
    "                    input_ids=input_ids[:, :max_len],\n",
    "                    past_key_values=past,\n",
    "                    return_dict=True)\n",
    "\n",
    "            # at most max_len * vocab_size\n",
    "            surprisal_outputs.append(-outputs_b[\"logits\"].log_softmax(dim=2).squeeze(0).numpy())\n",
    "\n",
    "            past = outputs_b[\"past_key_values\"]\n",
    "\n",
    "            if input_ids.shape[1] <= max_len:\n",
    "                # Done.\n",
    "                break\n",
    "            else:\n",
    "                input_ids = input_ids[:, max_len:]\n",
    "\n",
    "        # T * vocab_size\n",
    "        all_surprisals = np.concatenate(surprisal_outputs, axis=0)\n",
    "\n",
    "        # get surprisals of expected words\n",
    "        surps_shifted = all_surprisals[:-1, :]\n",
    "        sent_tokens_shifted = sent_tokens.squeeze()[1:]\n",
    "        token_surps = surps_shifted[range(surps_shifted.shape[0]), sent_tokens_shifted]\n",
    "\n",
    "        word_ids = tokenized.word_ids(sent_idx)\n",
    "        for tok_id, surp in enumerate(token_surps):\n",
    "            if word_ids[tok_id] is None:\n",
    "                continue\n",
    "            surp_mapping.append((global_tok_cursor + word_ids[tok_id],\n",
    "                                 sent_idx, word_ids[tok_id], tok_id, surp))\n",
    "\n",
    "        global_tok_cursor += len(sentence)\n",
    "\n",
    "    surp_mapping = pd.DataFrame(surp_mapping, columns=[\"global_text_tok_idx\", \"sent_idx\",\n",
    "                                                       \"text_tok_idx\", \"tok_idx\", \"surprisal\"])\n",
    "    \n",
    "    surp_mapping.to_csv(SURPRISALS_CHECKPOINT_PATH)\n",
    "else:\n",
    "    surp_mapping = pd.read_csv(SURPRISALS_CHECKPOINT_PATH)"
   ]
  },
  {
   "cell_type": "markdown",
   "metadata": {},
   "source": [
    "### Merge into `stim_df`"
   ]
  },
  {
   "cell_type": "code",
   "execution_count": 8,
   "metadata": {},
   "outputs": [],
   "source": [
    "surp_mapping[\"token\"] = surp_mapping.global_text_tok_idx.map(dict(enumerate(tokens_flat)))"
   ]
  },
  {
   "cell_type": "code",
   "execution_count": 9,
   "metadata": {},
   "outputs": [
    {
     "data": {
      "text/plain": [
       "global_text_tok_idx  token  \n",
       "0                    He         2.660097\n",
       "1                    was        3.965186\n",
       "2                    an         3.409394\n",
       "3                    old        1.007797\n",
       "4                    man        2.824772\n",
       "                                  ...   \n",
       "12814                and        8.506883\n",
       "12815                untie      3.200993\n",
       "12816                the        7.338224\n",
       "12817                various    6.563997\n",
       "12818                lines      8.991981\n",
       "Name: surprisal, Length: 12111, dtype: float64"
      ]
     },
     "execution_count": 9,
     "metadata": {},
     "output_type": "execute_result"
    }
   ],
   "source": [
    "surp_mapping.groupby([\"global_text_tok_idx\", \"token\"]).surprisal.sum()"
   ]
  },
  {
   "cell_type": "code",
   "execution_count": 10,
   "metadata": {},
   "outputs": [],
   "source": [
    "stim_df = pd.merge(stim_df, surp_mapping.groupby([\"global_text_tok_idx\"]).surprisal.sum(),\n",
    "                   how=\"left\", left_on=\"tok_pos\", right_index=True)"
   ]
  },
  {
   "cell_type": "markdown",
   "metadata": {},
   "source": [
    "## Load envelope data"
   ]
  },
  {
   "cell_type": "code",
   "execution_count": null,
   "metadata": {},
   "outputs": [],
   "source": [
    "def load_envelope(paths):\n",
    "    data = scipy.io.loadmat(path)\n",
    "    \n",
    "    return pd.DataFrame.from_dict({\"word\": [el[0][0] for el in data[\"wordVec\"]],\n",
    "                                   \"onset_time\": data[\"onset_time\"].flatten(),\n",
    "                                   \"offset_time\": data[\"offset_time\"].flatten()})"
   ]
  },
  {
   "cell_type": "code",
   "execution_count": 201,
   "metadata": {},
   "outputs": [
    {
     "data": {
      "text/plain": [
       "(PosixPath('/om/data/public/broderick2018/Natural Speech/Stimuli/Envelopes/audio10_128Hz.mat'),\n",
       " (24699, 1))"
      ]
     },
     "execution_count": 201,
     "metadata": {},
     "output_type": "execute_result"
    }
   ],
   "source": [
    "env = next(ENVELOPE_DIR.glob(\"*.mat\"))\n",
    "env, scipy.io.loadmat(env)[\"env\"].shape"
   ]
  },
  {
   "cell_type": "code",
   "execution_count": 203,
   "metadata": {},
   "outputs": [
    {
     "data": {
      "text/plain": [
       "(464572, 1)"
      ]
     },
     "execution_count": 203,
     "metadata": {},
     "output_type": "execute_result"
    }
   ],
   "source": [
    "np.concatenate([scipy.io.loadmat(env)[\"env\"] for env in ENVELOPE_DIR.glob(\"*.mat\")],\n",
    "               axis=0).shape"
   ]
  },
  {
   "cell_type": "code",
   "execution_count": 205,
   "metadata": {},
   "outputs": [
    {
     "data": {
      "text/plain": [
       "497827"
      ]
     },
     "execution_count": 205,
     "metadata": {},
     "output_type": "execute_result"
    }
   ],
   "source": [
    "len(subj1_eeg[0])"
   ]
  },
  {
   "cell_type": "code",
   "execution_count": null,
   "metadata": {},
   "outputs": [],
   "source": [
    "# TODO why don't these match ?\n",
    "# want to eventually insert envelope as an extra channel in the `Raw`\n",
    "# so that it gets transformed correctly during epoching"
   ]
  },
  {
   "cell_type": "markdown",
   "metadata": {},
   "source": [
    "## Load EEG data\n",
    "\n",
    "We'll manually create MNE representations from the raw data given in the dataset."
   ]
  },
  {
   "cell_type": "code",
   "execution_count": 21,
   "metadata": {},
   "outputs": [],
   "source": [
    "# Relevant for Broderick et al 2018\n",
    "NUM_DATA_CHANNELS = 128\n",
    "# 2 mastoid channels\n",
    "NUM_REFERENCE_CHANNELS = 2\n",
    "NUM_CHANNELS = NUM_DATA_CHANNELS + NUM_REFERENCE_CHANNELS\n",
    "SAMPLE_RATE = 128\n",
    "\n",
    "# Processing parameters\n",
    "EPOCH_TMIN = -0.2\n",
    "EPOCH_TMAX = 0.5\n",
    "\n",
    "# Band-pass filter parameters\n",
    "FILTER_LOW = 1.\n",
    "FILTER_HIGH = 8."
   ]
  },
  {
   "cell_type": "code",
   "execution_count": 23,
   "metadata": {},
   "outputs": [],
   "source": [
    "data_channels = [f\"V{i + 1}\" for i in range(NUM_DATA_CHANNELS)]\n",
    "reference_channels = [f\"M{i + 1}\" for i in range(NUM_REFERENCE_CHANNELS)]\n",
    "channel_names = data_channels + reference_channels\n",
    "\n",
    "mne_info = mne.create_info(channel_names, sfreq=SAMPLE_RATE,\n",
    "                           ch_types=[\"eeg\"] * NUM_CHANNELS)"
   ]
  },
  {
   "cell_type": "markdown",
   "metadata": {},
   "source": [
    "### Demo with one subject"
   ]
  },
  {
   "cell_type": "code",
   "execution_count": 14,
   "metadata": {},
   "outputs": [],
   "source": [
    "t = scipy.io.loadmat(next(EEG_DIR.glob(\"**/Subject1_*.mat\")))"
   ]
  },
  {
   "cell_type": "code",
   "execution_count": 19,
   "metadata": {},
   "outputs": [
    {
     "data": {
      "text/plain": [
       "(22949, 2)"
      ]
     },
     "execution_count": 19,
     "metadata": {},
     "output_type": "execute_result"
    }
   ],
   "source": [
    "t[\"mastoids\"].shape"
   ]
  },
  {
   "cell_type": "code",
   "execution_count": 20,
   "metadata": {},
   "outputs": [
    {
     "data": {
      "text/plain": [
       "(22949, 128)"
      ]
     },
     "execution_count": 20,
     "metadata": {},
     "output_type": "execute_result"
    }
   ],
   "source": [
    "t[\"eegData\"].shape"
   ]
  },
  {
   "cell_type": "markdown",
   "metadata": {},
   "source": [
    "#### Load raw EEG"
   ]
  },
  {
   "cell_type": "code",
   "execution_count": 24,
   "metadata": {},
   "outputs": [],
   "source": [
    "info_re = re.compile(r\"Subject(\\d+)_Run(\\d+)\\.mat\")\n",
    "def load_eeg(subject_paths):\n",
    "    \"\"\"\n",
    "    Load subject data into a single MNE `RawData` representation.\n",
    "    \n",
    "    Runs relevant preprocessing steps as well:\n",
    "    1. Load and set \n",
    "    \n",
    "    Returns:\n",
    "        raw_data: An MNE `RawData` representation.\n",
    "        run_offsets: Integer sample offsets for each of the runs\n",
    "            for this subject within the raw data, i.e.\n",
    "                \n",
    "                [run1_offset, run2_offset, ...]\n",
    "    \"\"\"\n",
    "    # Each element of all_data will be (run_id, data)\n",
    "    # where data is (num_data_channels + num_reference_channels) * num_samples\n",
    "    all_data = []\n",
    "    for path in subject_paths:\n",
    "        subject, run = info_re.findall(path.name)[0]\n",
    "        data = scipy.io.loadmat(path)\n",
    "        \n",
    "        mat = np.concatenate([data[\"eegData\"].T, data[\"mastoids\"].T], axis=0)\n",
    "        print(mat.shape)\n",
    "        all_data.append((int(run), mat))\n",
    "    \n",
    "    all_data = sorted(all_data, key=lambda v: v[0])\n",
    "    \n",
    "    raw_ret = mne.io.RawArray(np.concatenate([mat for _, mat in all_data], axis=1),\n",
    "                              mne_info)\n",
    "    \n",
    "    # Set reference.\n",
    "    # TODO should this be a \"bipolar reference\" ?\n",
    "    raw_ret = raw_ret.set_eeg_reference(reference_channels)\n",
    "    \n",
    "    # Run band-pass filter.\n",
    "    raw_ret = raw_ret.filter(FILTER_LOW, FILTER_HIGH)\n",
    "    \n",
    "    run_offsets = []\n",
    "    acc = 0\n",
    "    for _, mat in all_data:\n",
    "        run_offsets.append(acc)\n",
    "        acc += mat.shape[1]\n",
    "        \n",
    "    return raw_ret, run_offsets"
   ]
  },
  {
   "cell_type": "code",
   "execution_count": 25,
   "metadata": {},
   "outputs": [
    {
     "name": "stdout",
     "output_type": "stream",
     "text": [
      "(130, 22949)\n",
      "(130, 25001)\n",
      "(130, 22764)\n",
      "(130, 23557)\n",
      "(130, 24034)\n",
      "(130, 23397)\n",
      "(130, 48299)\n",
      "(130, 24261)\n",
      "(130, 24226)\n",
      "(130, 23761)\n",
      "(130, 23227)\n",
      "(130, 23546)\n",
      "(130, 24679)\n",
      "(130, 23602)\n",
      "(130, 23635)\n",
      "(130, 23614)\n",
      "(130, 26399)\n",
      "(130, 21439)\n",
      "(130, 22421)\n",
      "(130, 23016)\n",
      "Creating RawArray with float64 data, n_channels=130, n_times=497827\n",
      "    Range : 0 ... 497826 =      0.000 ...  3889.266 secs\n",
      "Ready.\n",
      "EEG channel type selected for re-referencing\n",
      "Applying a custom ('EEG',) reference.\n",
      "Filtering raw data in 1 contiguous segment\n",
      "Setting up band-pass filter from 1 - 8 Hz\n",
      "\n",
      "FIR filter parameters\n",
      "---------------------\n",
      "Designing a one-pass, zero-phase, non-causal bandpass filter:\n",
      "- Windowed time-domain design (firwin) method\n",
      "- Hamming window with 0.0194 passband ripple and 53 dB stopband attenuation\n",
      "- Lower passband edge: 1.00\n",
      "- Lower transition bandwidth: 1.00 Hz (-6 dB cutoff frequency: 0.50 Hz)\n",
      "- Upper passband edge: 8.00 Hz\n",
      "- Upper transition bandwidth: 2.00 Hz (-6 dB cutoff frequency: 9.00 Hz)\n",
      "- Filter length: 423 samples (3.305 sec)\n",
      "\n"
     ]
    }
   ],
   "source": [
    "eeg_paths = list(EEG_DIR.glob(\"**/Subject1_*.mat\"))\n",
    "subj1_eeg = load_eeg(eeg_paths)\n",
    "\n",
    "# stim_df = pd.concat([load_stimuli(path) for path in stim_paths],\n",
    "#                     keys=[int(p.stem.replace(\"Run\", \"\")) for p in stim_paths],\n",
    "#                     names=[\"item\"]).sort_index()\n",
    "# stim_df"
   ]
  },
  {
   "cell_type": "markdown",
   "metadata": {},
   "source": [
    "#### Convert stim info to events\n",
    "\n",
    "The substantive mapping here is to map from continuous time within run (what is represented in `stim_df`) onto the nearest EEG sample. Yikes."
   ]
  },
  {
   "cell_type": "code",
   "execution_count": 26,
   "metadata": {},
   "outputs": [],
   "source": [
    "# Compute the nearest following sample for each word onset.\n",
    "stim_df[\"sample_id\"] = np.ceil(stim_df.onset_time * SAMPLE_RATE).astype(int)"
   ]
  },
  {
   "cell_type": "code",
   "execution_count": 27,
   "metadata": {},
   "outputs": [],
   "source": [
    "events_arr = []\n",
    "EVENT_ID_WORD = 2\n",
    "for i, run_offset in enumerate(subj1_eeg[1]):\n",
    "    word_offsets = stim_df.loc[i + 1].sample_id + run_offset\n",
    "    \n",
    "    events_arr.append(np.stack([\n",
    "        word_offsets,\n",
    "        np.zeros_like(word_offsets),\n",
    "        EVENT_ID_WORD * np.ones_like(word_offsets)\n",
    "    ], axis=1))\n",
    "events_seq = np.concatenate(events_arr)"
   ]
  },
  {
   "cell_type": "markdown",
   "metadata": {},
   "source": [
    "#### Epoching\n",
    "\n",
    "https://mne.tools/dev/generated/mne.Epochs.html\n",
    "\n",
    "> When accessing data, Epochs are detrended, baseline-corrected, and decimated, then projectors are (optionally) applied.\n",
    "\n",
    "TODO Q: Why is baselining necessary if detrending linear fit includes a constant bias?"
   ]
  },
  {
   "cell_type": "code",
   "execution_count": 28,
   "metadata": {},
   "outputs": [
    {
     "name": "stdout",
     "output_type": "stream",
     "text": [
      "Not setting metadata\n",
      "Not setting metadata\n",
      "5459 matching events found\n",
      "Setting baseline interval to [-0.203125, 0.0] sec\n",
      "Applying baseline correction (mode: mean)\n",
      "0 projection items activated\n",
      "Loading data for 5459 events and 91 original time points ...\n",
      "0 bad epochs dropped\n"
     ]
    }
   ],
   "source": [
    "epochs = mne.Epochs(subj1_eeg[0], events_seq,\n",
    "                    preload=True, # load epochs into memory\n",
    "                    tmin=EPOCH_TMIN, tmax=EPOCH_TMAX)"
   ]
  },
  {
   "cell_type": "code",
   "execution_count": 238,
   "metadata": {},
   "outputs": [
    {
     "data": {
      "image/png": "[encoded data removed]",
      "text/plain": [
       "<Figure size 460.8x216 with 1 Axes>"
      ]
     },
     "metadata": {
      "needs_background": "light"
     },
     "output_type": "display_data"
    },
    {
     "data": {
      "image/png": "[encoded data removed]",
      "text/plain": [
       "<Figure size 460.8x216 with 1 Axes>"
      ]
     },
     "execution_count": 238,
     "metadata": {},
     "output_type": "execute_result"
    }
   ],
   "source": [
    "epochs.average().plot()"
   ]
  },
  {
   "cell_type": "markdown",
   "metadata": {},
   "source": [
    "#### Simple N400 check"
   ]
  },
  {
   "cell_type": "code",
   "execution_count": 29,
   "metadata": {},
   "outputs": [
    {
     "name": "stdout",
     "output_type": "stream",
     "text": [
      "Applying baseline correction (mode: mean)\n"
     ]
    }
   ],
   "source": [
    "WINDOW = (0.4, 0.45)\n",
    "\n",
    "# TODO don't enable baselining between items\n",
    "baselined_df = epochs.copy().apply_baseline().crop(0.4, 0.45).to_data_frame(index=[\"condition\", \"epoch\", \"time\"])"
   ]
  },
  {
   "cell_type": "code",
   "execution_count": 30,
   "metadata": {},
   "outputs": [
    {
     "data": {
      "text/html": [
       "<div>\n",
       "<style scoped>\n",
       "    .dataframe tbody tr th:only-of-type {\n",
       "        vertical-align: middle;\n",
       "    }\n",
       "\n",
       "    .dataframe tbody tr th {\n",
       "        vertical-align: top;\n",
       "    }\n",
       "\n",
       "    .dataframe thead th {\n",
       "        text-align: right;\n",
       "    }\n",
       "</style>\n",
       "<table border=\"1\" class=\"dataframe\">\n",
       "  <thead>\n",
       "    <tr style=\"text-align: right;\">\n",
       "      <th></th>\n",
       "      <th>condition</th>\n",
       "      <th>epoch</th>\n",
       "      <th>time</th>\n",
       "      <th>V1</th>\n",
       "      <th>V2</th>\n",
       "      <th>V3</th>\n",
       "      <th>V4</th>\n",
       "      <th>V5</th>\n",
       "      <th>V6</th>\n",
       "      <th>V7</th>\n",
       "      <th>...</th>\n",
       "      <th>V123</th>\n",
       "      <th>V124</th>\n",
       "      <th>V125</th>\n",
       "      <th>V126</th>\n",
       "      <th>V127</th>\n",
       "      <th>V128</th>\n",
       "      <th>M1</th>\n",
       "      <th>M2</th>\n",
       "      <th>content_word_idx</th>\n",
       "      <th>item</th>\n",
       "    </tr>\n",
       "  </thead>\n",
       "  <tbody>\n",
       "    <tr>\n",
       "      <th>0</th>\n",
       "      <td>2</td>\n",
       "      <td>0</td>\n",
       "      <td>398</td>\n",
       "      <td>2.373069e+06</td>\n",
       "      <td>2.504639e+06</td>\n",
       "      <td>2.917046e+06</td>\n",
       "      <td>1.406300e+06</td>\n",
       "      <td>-1.158176e+06</td>\n",
       "      <td>2.616693e+06</td>\n",
       "      <td>3.680079e+06</td>\n",
       "      <td>...</td>\n",
       "      <td>1.963807e+06</td>\n",
       "      <td>-357451.245198</td>\n",
       "      <td>1.232585e+07</td>\n",
       "      <td>4.114351e+06</td>\n",
       "      <td>1.368228e+07</td>\n",
       "      <td>1.417734e+07</td>\n",
       "      <td>-18508.665677</td>\n",
       "      <td>18508.665677</td>\n",
       "      <td>0</td>\n",
       "      <td>1</td>\n",
       "    </tr>\n",
       "    <tr>\n",
       "      <th>1</th>\n",
       "      <td>2</td>\n",
       "      <td>0</td>\n",
       "      <td>398</td>\n",
       "      <td>2.373069e+06</td>\n",
       "      <td>2.504639e+06</td>\n",
       "      <td>2.917046e+06</td>\n",
       "      <td>1.406300e+06</td>\n",
       "      <td>-1.158176e+06</td>\n",
       "      <td>2.616693e+06</td>\n",
       "      <td>3.680079e+06</td>\n",
       "      <td>...</td>\n",
       "      <td>1.963807e+06</td>\n",
       "      <td>-357451.245198</td>\n",
       "      <td>1.232585e+07</td>\n",
       "      <td>4.114351e+06</td>\n",
       "      <td>1.368228e+07</td>\n",
       "      <td>1.417734e+07</td>\n",
       "      <td>-18508.665677</td>\n",
       "      <td>18508.665677</td>\n",
       "      <td>0</td>\n",
       "      <td>2</td>\n",
       "    </tr>\n",
       "    <tr>\n",
       "      <th>2</th>\n",
       "      <td>2</td>\n",
       "      <td>0</td>\n",
       "      <td>398</td>\n",
       "      <td>2.373069e+06</td>\n",
       "      <td>2.504639e+06</td>\n",
       "      <td>2.917046e+06</td>\n",
       "      <td>1.406300e+06</td>\n",
       "      <td>-1.158176e+06</td>\n",
       "      <td>2.616693e+06</td>\n",
       "      <td>3.680079e+06</td>\n",
       "      <td>...</td>\n",
       "      <td>1.963807e+06</td>\n",
       "      <td>-357451.245198</td>\n",
       "      <td>1.232585e+07</td>\n",
       "      <td>4.114351e+06</td>\n",
       "      <td>1.368228e+07</td>\n",
       "      <td>1.417734e+07</td>\n",
       "      <td>-18508.665677</td>\n",
       "      <td>18508.665677</td>\n",
       "      <td>0</td>\n",
       "      <td>3</td>\n",
       "    </tr>\n",
       "    <tr>\n",
       "      <th>3</th>\n",
       "      <td>2</td>\n",
       "      <td>0</td>\n",
       "      <td>398</td>\n",
       "      <td>2.373069e+06</td>\n",
       "      <td>2.504639e+06</td>\n",
       "      <td>2.917046e+06</td>\n",
       "      <td>1.406300e+06</td>\n",
       "      <td>-1.158176e+06</td>\n",
       "      <td>2.616693e+06</td>\n",
       "      <td>3.680079e+06</td>\n",
       "      <td>...</td>\n",
       "      <td>1.963807e+06</td>\n",
       "      <td>-357451.245198</td>\n",
       "      <td>1.232585e+07</td>\n",
       "      <td>4.114351e+06</td>\n",
       "      <td>1.368228e+07</td>\n",
       "      <td>1.417734e+07</td>\n",
       "      <td>-18508.665677</td>\n",
       "      <td>18508.665677</td>\n",
       "      <td>0</td>\n",
       "      <td>4</td>\n",
       "    </tr>\n",
       "    <tr>\n",
       "      <th>4</th>\n",
       "      <td>2</td>\n",
       "      <td>0</td>\n",
       "      <td>398</td>\n",
       "      <td>2.373069e+06</td>\n",
       "      <td>2.504639e+06</td>\n",
       "      <td>2.917046e+06</td>\n",
       "      <td>1.406300e+06</td>\n",
       "      <td>-1.158176e+06</td>\n",
       "      <td>2.616693e+06</td>\n",
       "      <td>3.680079e+06</td>\n",
       "      <td>...</td>\n",
       "      <td>1.963807e+06</td>\n",
       "      <td>-357451.245198</td>\n",
       "      <td>1.232585e+07</td>\n",
       "      <td>4.114351e+06</td>\n",
       "      <td>1.368228e+07</td>\n",
       "      <td>1.417734e+07</td>\n",
       "      <td>-18508.665677</td>\n",
       "      <td>18508.665677</td>\n",
       "      <td>0</td>\n",
       "      <td>5</td>\n",
       "    </tr>\n",
       "  </tbody>\n",
       "</table>\n",
       "<p>5 rows × 135 columns</p>\n",
       "</div>"
      ],
      "text/plain": [
       "  condition  epoch  time            V1            V2            V3  \\\n",
       "0         2      0   398  2.373069e+06  2.504639e+06  2.917046e+06   \n",
       "1         2      0   398  2.373069e+06  2.504639e+06  2.917046e+06   \n",
       "2         2      0   398  2.373069e+06  2.504639e+06  2.917046e+06   \n",
       "3         2      0   398  2.373069e+06  2.504639e+06  2.917046e+06   \n",
       "4         2      0   398  2.373069e+06  2.504639e+06  2.917046e+06   \n",
       "\n",
       "             V4            V5            V6            V7  ...          V123  \\\n",
       "0  1.406300e+06 -1.158176e+06  2.616693e+06  3.680079e+06  ...  1.963807e+06   \n",
       "1  1.406300e+06 -1.158176e+06  2.616693e+06  3.680079e+06  ...  1.963807e+06   \n",
       "2  1.406300e+06 -1.158176e+06  2.616693e+06  3.680079e+06  ...  1.963807e+06   \n",
       "3  1.406300e+06 -1.158176e+06  2.616693e+06  3.680079e+06  ...  1.963807e+06   \n",
       "4  1.406300e+06 -1.158176e+06  2.616693e+06  3.680079e+06  ...  1.963807e+06   \n",
       "\n",
       "            V124          V125          V126          V127          V128  \\\n",
       "0 -357451.245198  1.232585e+07  4.114351e+06  1.368228e+07  1.417734e+07   \n",
       "1 -357451.245198  1.232585e+07  4.114351e+06  1.368228e+07  1.417734e+07   \n",
       "2 -357451.245198  1.232585e+07  4.114351e+06  1.368228e+07  1.417734e+07   \n",
       "3 -357451.245198  1.232585e+07  4.114351e+06  1.368228e+07  1.417734e+07   \n",
       "4 -357451.245198  1.232585e+07  4.114351e+06  1.368228e+07  1.417734e+07   \n",
       "\n",
       "             M1            M2  content_word_idx  item  \n",
       "0 -18508.665677  18508.665677                 0     1  \n",
       "1 -18508.665677  18508.665677                 0     2  \n",
       "2 -18508.665677  18508.665677                 0     3  \n",
       "3 -18508.665677  18508.665677                 0     4  \n",
       "4 -18508.665677  18508.665677                 0     5  \n",
       "\n",
       "[5 rows x 135 columns]"
      ]
     },
     "execution_count": 30,
     "metadata": {},
     "output_type": "execute_result"
    }
   ],
   "source": [
    "# Merge in item information\n",
    "baselined_df = pd.merge(baselined_df.reset_index(), stim_df.reset_index()[[\"content_word_idx\", \"item\"]],\n",
    "                        left_on=\"epoch\", right_on=\"content_word_idx\")\n",
    "baselined_df.head()"
   ]
  },
  {
   "cell_type": "code",
   "execution_count": 31,
   "metadata": {},
   "outputs": [
    {
     "data": {
      "text/html": [
       "<div>\n",
       "<style scoped>\n",
       "    .dataframe tbody tr th:only-of-type {\n",
       "        vertical-align: middle;\n",
       "    }\n",
       "\n",
       "    .dataframe tbody tr th {\n",
       "        vertical-align: top;\n",
       "    }\n",
       "\n",
       "    .dataframe thead th {\n",
       "        text-align: right;\n",
       "    }\n",
       "</style>\n",
       "<table border=\"1\" class=\"dataframe\">\n",
       "  <thead>\n",
       "    <tr style=\"text-align: right;\">\n",
       "      <th></th>\n",
       "      <th>item</th>\n",
       "      <th>content_word_idx</th>\n",
       "      <th>word</th>\n",
       "      <th>onset_time</th>\n",
       "      <th>offset_time</th>\n",
       "      <th>tok_pos</th>\n",
       "      <th>surprisal</th>\n",
       "      <th>sample_id</th>\n",
       "      <th>condition</th>\n",
       "      <th>epoch</th>\n",
       "      <th>...</th>\n",
       "      <th>V122</th>\n",
       "      <th>V123</th>\n",
       "      <th>V124</th>\n",
       "      <th>V125</th>\n",
       "      <th>V126</th>\n",
       "      <th>V127</th>\n",
       "      <th>V128</th>\n",
       "      <th>M1</th>\n",
       "      <th>M2</th>\n",
       "      <th>content_word_idx</th>\n",
       "    </tr>\n",
       "  </thead>\n",
       "  <tbody>\n",
       "    <tr>\n",
       "      <th>0</th>\n",
       "      <td>1</td>\n",
       "      <td>0</td>\n",
       "      <td>OLD</td>\n",
       "      <td>1.12</td>\n",
       "      <td>1.41</td>\n",
       "      <td>3</td>\n",
       "      <td>1.007797</td>\n",
       "      <td>144</td>\n",
       "      <td>2</td>\n",
       "      <td>0.0</td>\n",
       "      <td>...</td>\n",
       "      <td>-3.559334e+06</td>\n",
       "      <td>1.044086e+06</td>\n",
       "      <td>-7.217937e+05</td>\n",
       "      <td>1.005386e+07</td>\n",
       "      <td>2.807259e+05</td>\n",
       "      <td>6.409489e+06</td>\n",
       "      <td>7.821081e+06</td>\n",
       "      <td>10532.266141</td>\n",
       "      <td>-10532.266141</td>\n",
       "      <td>0.0</td>\n",
       "    </tr>\n",
       "    <tr>\n",
       "      <th>1</th>\n",
       "      <td>1</td>\n",
       "      <td>1</td>\n",
       "      <td>MAN</td>\n",
       "      <td>1.41</td>\n",
       "      <td>1.79</td>\n",
       "      <td>4</td>\n",
       "      <td>2.824772</td>\n",
       "      <td>181</td>\n",
       "      <td>2</td>\n",
       "      <td>1.0</td>\n",
       "      <td>...</td>\n",
       "      <td>-4.188196e+06</td>\n",
       "      <td>-6.281302e+06</td>\n",
       "      <td>-1.340899e+06</td>\n",
       "      <td>-3.085431e+05</td>\n",
       "      <td>-5.662782e+06</td>\n",
       "      <td>-5.324589e+06</td>\n",
       "      <td>-8.681236e+06</td>\n",
       "      <td>-26783.024217</td>\n",
       "      <td>26783.024217</td>\n",
       "      <td>1.0</td>\n",
       "    </tr>\n",
       "    <tr>\n",
       "      <th>2</th>\n",
       "      <td>1</td>\n",
       "      <td>2</td>\n",
       "      <td>FISHED</td>\n",
       "      <td>2.08</td>\n",
       "      <td>2.41</td>\n",
       "      <td>6</td>\n",
       "      <td>9.653991</td>\n",
       "      <td>267</td>\n",
       "      <td>2</td>\n",
       "      <td>2.0</td>\n",
       "      <td>...</td>\n",
       "      <td>5.338017e+05</td>\n",
       "      <td>1.720820e+06</td>\n",
       "      <td>-9.350176e+05</td>\n",
       "      <td>-1.462324e+06</td>\n",
       "      <td>-1.115593e+07</td>\n",
       "      <td>3.288450e+04</td>\n",
       "      <td>-9.247362e+06</td>\n",
       "      <td>-10167.812850</td>\n",
       "      <td>10167.812850</td>\n",
       "      <td>2.0</td>\n",
       "    </tr>\n",
       "    <tr>\n",
       "      <th>3</th>\n",
       "      <td>1</td>\n",
       "      <td>3</td>\n",
       "      <td>ALONE</td>\n",
       "      <td>2.41</td>\n",
       "      <td>2.77</td>\n",
       "      <td>7</td>\n",
       "      <td>2.077590</td>\n",
       "      <td>309</td>\n",
       "      <td>2</td>\n",
       "      <td>3.0</td>\n",
       "      <td>...</td>\n",
       "      <td>1.841785e+06</td>\n",
       "      <td>9.470537e+05</td>\n",
       "      <td>2.122385e+06</td>\n",
       "      <td>-6.102581e+05</td>\n",
       "      <td>-2.730097e+06</td>\n",
       "      <td>2.641523e+06</td>\n",
       "      <td>6.990222e+06</td>\n",
       "      <td>42516.523293</td>\n",
       "      <td>-42516.523293</td>\n",
       "      <td>3.0</td>\n",
       "    </tr>\n",
       "    <tr>\n",
       "      <th>4</th>\n",
       "      <td>1</td>\n",
       "      <td>4</td>\n",
       "      <td>SKIFF</td>\n",
       "      <td>2.95</td>\n",
       "      <td>3.41</td>\n",
       "      <td>10</td>\n",
       "      <td>3.006370</td>\n",
       "      <td>378</td>\n",
       "      <td>2</td>\n",
       "      <td>4.0</td>\n",
       "      <td>...</td>\n",
       "      <td>-6.453930e+05</td>\n",
       "      <td>-1.849705e+06</td>\n",
       "      <td>-1.458423e+06</td>\n",
       "      <td>-1.622394e+06</td>\n",
       "      <td>5.590259e+05</td>\n",
       "      <td>-3.042161e+06</td>\n",
       "      <td>-5.642890e+06</td>\n",
       "      <td>53226.615929</td>\n",
       "      <td>-53226.615929</td>\n",
       "      <td>4.0</td>\n",
       "    </tr>\n",
       "    <tr>\n",
       "      <th>...</th>\n",
       "      <td>...</td>\n",
       "      <td>...</td>\n",
       "      <td>...</td>\n",
       "      <td>...</td>\n",
       "      <td>...</td>\n",
       "      <td>...</td>\n",
       "      <td>...</td>\n",
       "      <td>...</td>\n",
       "      <td>...</td>\n",
       "      <td>...</td>\n",
       "      <td>...</td>\n",
       "      <td>...</td>\n",
       "      <td>...</td>\n",
       "      <td>...</td>\n",
       "      <td>...</td>\n",
       "      <td>...</td>\n",
       "      <td>...</td>\n",
       "      <td>...</td>\n",
       "      <td>...</td>\n",
       "      <td>...</td>\n",
       "      <td>...</td>\n",
       "    </tr>\n",
       "    <tr>\n",
       "      <th>5454</th>\n",
       "      <td>20</td>\n",
       "      <td>250</td>\n",
       "      <td>NECESSARY</td>\n",
       "      <td>184.43</td>\n",
       "      <td>184.93</td>\n",
       "      <td>12811</td>\n",
       "      <td>0.505702</td>\n",
       "      <td>23608</td>\n",
       "      <td>NaN</td>\n",
       "      <td>NaN</td>\n",
       "      <td>...</td>\n",
       "      <td>NaN</td>\n",
       "      <td>NaN</td>\n",
       "      <td>NaN</td>\n",
       "      <td>NaN</td>\n",
       "      <td>NaN</td>\n",
       "      <td>NaN</td>\n",
       "      <td>NaN</td>\n",
       "      <td>NaN</td>\n",
       "      <td>NaN</td>\n",
       "      <td>NaN</td>\n",
       "    </tr>\n",
       "    <tr>\n",
       "      <th>5455</th>\n",
       "      <td>20</td>\n",
       "      <td>251</td>\n",
       "      <td>FREE</td>\n",
       "      <td>185.06</td>\n",
       "      <td>185.42</td>\n",
       "      <td>12813</td>\n",
       "      <td>5.136990</td>\n",
       "      <td>23688</td>\n",
       "      <td>NaN</td>\n",
       "      <td>NaN</td>\n",
       "      <td>...</td>\n",
       "      <td>NaN</td>\n",
       "      <td>NaN</td>\n",
       "      <td>NaN</td>\n",
       "      <td>NaN</td>\n",
       "      <td>NaN</td>\n",
       "      <td>NaN</td>\n",
       "      <td>NaN</td>\n",
       "      <td>NaN</td>\n",
       "      <td>NaN</td>\n",
       "      <td>NaN</td>\n",
       "    </tr>\n",
       "    <tr>\n",
       "      <th>5456</th>\n",
       "      <td>20</td>\n",
       "      <td>252</td>\n",
       "      <td>UNTIE</td>\n",
       "      <td>185.56</td>\n",
       "      <td>186.00</td>\n",
       "      <td>12815</td>\n",
       "      <td>3.200993</td>\n",
       "      <td>23752</td>\n",
       "      <td>NaN</td>\n",
       "      <td>NaN</td>\n",
       "      <td>...</td>\n",
       "      <td>NaN</td>\n",
       "      <td>NaN</td>\n",
       "      <td>NaN</td>\n",
       "      <td>NaN</td>\n",
       "      <td>NaN</td>\n",
       "      <td>NaN</td>\n",
       "      <td>NaN</td>\n",
       "      <td>NaN</td>\n",
       "      <td>NaN</td>\n",
       "      <td>NaN</td>\n",
       "    </tr>\n",
       "    <tr>\n",
       "      <th>5457</th>\n",
       "      <td>20</td>\n",
       "      <td>253</td>\n",
       "      <td>VARIOUS</td>\n",
       "      <td>186.11</td>\n",
       "      <td>186.57</td>\n",
       "      <td>12817</td>\n",
       "      <td>6.563997</td>\n",
       "      <td>23823</td>\n",
       "      <td>NaN</td>\n",
       "      <td>NaN</td>\n",
       "      <td>...</td>\n",
       "      <td>NaN</td>\n",
       "      <td>NaN</td>\n",
       "      <td>NaN</td>\n",
       "      <td>NaN</td>\n",
       "      <td>NaN</td>\n",
       "      <td>NaN</td>\n",
       "      <td>NaN</td>\n",
       "      <td>NaN</td>\n",
       "      <td>NaN</td>\n",
       "      <td>NaN</td>\n",
       "    </tr>\n",
       "    <tr>\n",
       "      <th>5458</th>\n",
       "      <td>20</td>\n",
       "      <td>254</td>\n",
       "      <td>LINES</td>\n",
       "      <td>186.57</td>\n",
       "      <td>187.07</td>\n",
       "      <td>12818</td>\n",
       "      <td>8.991981</td>\n",
       "      <td>23881</td>\n",
       "      <td>NaN</td>\n",
       "      <td>NaN</td>\n",
       "      <td>...</td>\n",
       "      <td>NaN</td>\n",
       "      <td>NaN</td>\n",
       "      <td>NaN</td>\n",
       "      <td>NaN</td>\n",
       "      <td>NaN</td>\n",
       "      <td>NaN</td>\n",
       "      <td>NaN</td>\n",
       "      <td>NaN</td>\n",
       "      <td>NaN</td>\n",
       "      <td>NaN</td>\n",
       "    </tr>\n",
       "  </tbody>\n",
       "</table>\n",
       "<p>5459 rows × 142 columns</p>\n",
       "</div>"
      ],
      "text/plain": [
       "      item  content_word_idx       word  onset_time  offset_time  tok_pos  \\\n",
       "0        1                 0        OLD        1.12         1.41        3   \n",
       "1        1                 1        MAN        1.41         1.79        4   \n",
       "2        1                 2     FISHED        2.08         2.41        6   \n",
       "3        1                 3      ALONE        2.41         2.77        7   \n",
       "4        1                 4      SKIFF        2.95         3.41       10   \n",
       "...    ...               ...        ...         ...          ...      ...   \n",
       "5454    20               250  NECESSARY      184.43       184.93    12811   \n",
       "5455    20               251       FREE      185.06       185.42    12813   \n",
       "5456    20               252      UNTIE      185.56       186.00    12815   \n",
       "5457    20               253    VARIOUS      186.11       186.57    12817   \n",
       "5458    20               254      LINES      186.57       187.07    12818   \n",
       "\n",
       "      surprisal  sample_id condition  epoch  ...          V122          V123  \\\n",
       "0      1.007797        144         2    0.0  ... -3.559334e+06  1.044086e+06   \n",
       "1      2.824772        181         2    1.0  ... -4.188196e+06 -6.281302e+06   \n",
       "2      9.653991        267         2    2.0  ...  5.338017e+05  1.720820e+06   \n",
       "3      2.077590        309         2    3.0  ...  1.841785e+06  9.470537e+05   \n",
       "4      3.006370        378         2    4.0  ... -6.453930e+05 -1.849705e+06   \n",
       "...         ...        ...       ...    ...  ...           ...           ...   \n",
       "5454   0.505702      23608       NaN    NaN  ...           NaN           NaN   \n",
       "5455   5.136990      23688       NaN    NaN  ...           NaN           NaN   \n",
       "5456   3.200993      23752       NaN    NaN  ...           NaN           NaN   \n",
       "5457   6.563997      23823       NaN    NaN  ...           NaN           NaN   \n",
       "5458   8.991981      23881       NaN    NaN  ...           NaN           NaN   \n",
       "\n",
       "              V124          V125          V126          V127          V128  \\\n",
       "0    -7.217937e+05  1.005386e+07  2.807259e+05  6.409489e+06  7.821081e+06   \n",
       "1    -1.340899e+06 -3.085431e+05 -5.662782e+06 -5.324589e+06 -8.681236e+06   \n",
       "2    -9.350176e+05 -1.462324e+06 -1.115593e+07  3.288450e+04 -9.247362e+06   \n",
       "3     2.122385e+06 -6.102581e+05 -2.730097e+06  2.641523e+06  6.990222e+06   \n",
       "4    -1.458423e+06 -1.622394e+06  5.590259e+05 -3.042161e+06 -5.642890e+06   \n",
       "...            ...           ...           ...           ...           ...   \n",
       "5454           NaN           NaN           NaN           NaN           NaN   \n",
       "5455           NaN           NaN           NaN           NaN           NaN   \n",
       "5456           NaN           NaN           NaN           NaN           NaN   \n",
       "5457           NaN           NaN           NaN           NaN           NaN   \n",
       "5458           NaN           NaN           NaN           NaN           NaN   \n",
       "\n",
       "                M1            M2  content_word_idx  \n",
       "0     10532.266141 -10532.266141               0.0  \n",
       "1    -26783.024217  26783.024217               1.0  \n",
       "2    -10167.812850  10167.812850               2.0  \n",
       "3     42516.523293 -42516.523293               3.0  \n",
       "4     53226.615929 -53226.615929               4.0  \n",
       "...            ...           ...               ...  \n",
       "5454           NaN           NaN               NaN  \n",
       "5455           NaN           NaN               NaN  \n",
       "5456           NaN           NaN               NaN  \n",
       "5457           NaN           NaN               NaN  \n",
       "5458           NaN           NaN               NaN  \n",
       "\n",
       "[5459 rows x 142 columns]"
      ]
     },
     "execution_count": 31,
     "metadata": {},
     "output_type": "execute_result"
    }
   ],
   "source": [
    "merged_df = pd.concat([stim_df.reset_index(),\n",
    "                       baselined_df.loc[:, baselined_df.columns != \"item\"].groupby([\"condition\", \"epoch\"]).mean().reset_index()],\n",
    "                      axis=1)\n",
    "merged_df"
   ]
  },
  {
   "cell_type": "code",
   "execution_count": 37,
   "metadata": {},
   "outputs": [
    {
     "data": {
      "text/plain": [
       "electrode\n",
       "V61    0.107941\n",
       "V35    0.108260\n",
       "V51    0.108487\n",
       "V58    0.109053\n",
       "V90    0.109882\n",
       "V56    0.110674\n",
       "V53    0.114493\n",
       "V62    0.114629\n",
       "V59    0.114919\n",
       "V60    0.115432\n",
       "V63    0.115648\n",
       "V55    0.119055\n",
       "V64    0.119818\n",
       "V34    0.121062\n",
       "V54    0.123691\n",
       "V49    0.123996\n",
       "V52    0.125950\n",
       "V33    0.126426\n",
       "V50    0.128663\n",
       "V4     0.133299\n",
       "dtype: float64"
      ]
     },
     "execution_count": 37,
     "metadata": {},
     "output_type": "execute_result"
    }
   ],
   "source": [
    "# Dummy corr check: correlation between word length and 400ms baselined response\n",
    "\n",
    "id_vars = [\"word\", \"surprisal\", \"epoch\", \"item\"]\n",
    "electrode_corrs = merged_df[id_vars + data_channels].melt(id_vars=id_vars, var_name=\"electrode\") \\\n",
    "    .dropna() \\\n",
    "    .groupby(\"electrode\").apply(lambda xs: np.corrcoef(xs.surprisal, xs.value)[0, 1])\n",
    "electrode_corrs.sort_values().tail(20)"
   ]
  },
  {
   "cell_type": "code",
   "execution_count": 35,
   "metadata": {},
   "outputs": [
    {
     "name": "stderr",
     "output_type": "stream",
     "text": [
      "Matplotlib created a temporary config/cache directory at /tmp/matplotlib-amb4ai6z because the default path (/home/jovyan/.cache/matplotlib) is not a writable directory; it is highly recommended to set the MPLCONFIGDIR environment variable to a writable directory, in particular to speed up the import of Matplotlib and to better support multiprocessing.\n"
     ]
    },
    {
     "data": {
      "text/plain": [
       "<AxesSubplot:ylabel='Frequency'>"
      ]
     },
     "execution_count": 35,
     "metadata": {},
     "output_type": "execute_result"
    },
    {
     "data": {
      "image/png": "[encoded data removed]",
      "text/plain": [
       "<Figure size 432x288 with 1 Axes>"
      ]
     },
     "metadata": {
      "needs_background": "light"
     },
     "output_type": "display_data"
    }
   ],
   "source": [
    "electrode_corrs.plot.hist()"
   ]
  }
 ],
 "metadata": {
  "kernelspec": {
   "display_name": "Python 3 (ipykernel)",
   "language": "python",
   "name": "python3"
  },
  "language_info": {
   "codemirror_mode": {
    "name": "ipython",
    "version": 3
   },
   "file_extension": ".py",
   "mimetype": "text/x-python",
   "name": "python",
   "nbconvert_exporter": "python",
   "pygments_lexer": "ipython3",
   "version": "3.9.7"
  },
  "toc-autonumbering": false,
  "toc-showcode": false,
  "toc-showmarkdowntxt": false
 },
 "nbformat": 4,
 "nbformat_minor": 4
}
